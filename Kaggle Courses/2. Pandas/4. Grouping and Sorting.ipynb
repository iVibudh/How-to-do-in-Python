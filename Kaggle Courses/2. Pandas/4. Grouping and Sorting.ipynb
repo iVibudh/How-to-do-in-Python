{
 "cells": [
  {
   "cell_type": "code",
   "execution_count": null,
   "metadata": {},
   "outputs": [],
   "source": [
    "# In the previous section we learnt about maps which allow us to transform dataFrame or Series one value at a time. \n",
    "# Now, we will learn about groupby function - this allows us to group the data and then do a specific operation\n",
    "\n",
    "# In this first part we try to replicate the results of value_count function using group_by\n",
    "reviews.groupby('points').points.count()\n",
    "# Essentially, here we are grouping the data based on the couloumn 'points'\n",
    "# Then we want to get the counts for the points. \n",
    "# We can get the same result by using the value_counts() function. \n",
    "# if we write Reviews.point.value_counts()\n",
    "\n",
    "# Similarly Groupby functions can be used to replicate the results from any of the summary functions \n",
    "reviews.groupby('points').price.min()\n",
    "# Again the interpretation of this statement is simple - we are grouping the data based on the couloumn 'points' as before\n",
    "# then we are simply asking for the min price in eash group \n",
    "\n",
    "# The next set application is interesting and very powerful as we are going to use the apply function in groups. \n",
    "# In this example first we group the data based on winery and then we get the first title in eaxh of these groups.   \n",
    "reviews.groupby('winery').apply(lambda df: df.title.iloc[0])\n",
    "# Here lambda df represents the dataframe of each group. \n",
    "# Then within the dataframe we focus on the title coloumn and get the 0th index or the first entry\n",
    "\n",
    "# In the next example we are doing a two level grouping  \n",
    "# so we have group by based on country and province \n",
    "# then we use the apply function on the dataframe to locate the row with the maximum points.\n",
    "# idxmax function used here - Returns the index of maximum value. \n",
    "# Another thing to node about idxmax is that if there are more than one maximas then it gives the first occurance of the maxima\n",
    "# Also note here that since we are using df.loc so we expect that a dataframe is retured by the apply functions \n",
    "reviews.groupby(['country', 'province']).apply(lambda df: df.loc[df.points.idxmax()])\n",
    "# In the previous example we used df.title.iloc so the output was title. \n",
    "# Whereas in this exapme the output is a complete dataframe - since we didnot define the coloumn\n",
    "\n",
    "# Another thing to note here is format of the output. \n",
    "# In the output, we have a dataframe however it has 2 values as indices \n",
    "# This is known as multi-index or hirarchical indexing in Pandas - We are going to vising this topic later in this section \n",
    "\n",
    "# The next function that we are going to use with groupby is agg() function \n",
    "# This function aggregates using one or more operations over the specified axis.\n",
    "# So in this case first we group by the \"country\" field \n",
    "# and then we try to get the length, min value and max value in each of these groups \n",
    "reviews.groupby(['country']).price.agg([len, min, max])\n",
    "# Some additional operations used with Aggregate functions are - sum, mean, median, prod, std"
   ]
  },
  {
   "cell_type": "code",
   "execution_count": null,
   "metadata": {},
   "outputs": [],
   "source": [
    "# Multi-indexes\n",
    "# So, as we saw earlier in one of the examples that when we group by more than one fields \n",
    "# then the output that we get is a dataframe with more than 1 index. This is known as Multi-indexes or hirarchical indexing\n",
    "\n",
    "countries_reviewed = reviews.groupby(['country', 'province']).description.agg([len])\n",
    "countries_reviewed\n",
    "# So, here is the example - first, we are grouping the dataframe based on country and province\n",
    "# Then we use the agg function and get the length of series description - which counts the number of rows \n",
    "\n",
    "\n",
    "mi = countries_reviewed.index\n",
    "type(mi)\n",
    "# So in this dataframe if we look at the type of index - we can see here that this it multi.MultiIndex\n",
    "# Dataframes with MultiIndex also require two levels of labels to retrieve a value.\n",
    "# You can visit the complete documentation on multiindex here in the link given \n",
    "\n",
    "# Dealing with multiindex can be a bit confusing, so we can always use the reset_index() function to reset the index values\n",
    "countries_reviewed.reset_index()\n",
    "# Note here that the index values are still preserved in the dataframe as coloumns "
   ]
  },
  {
   "cell_type": "code",
   "execution_count": null,
   "metadata": {},
   "outputs": [],
   "source": [
    "# Sorting \n",
    "# Next we move to sorting \n",
    "# So we just created countries_reviewed = which had the count of elevlents in each of these groups by country and province\n",
    "# Then we reset the index of this dataframe \n",
    "countries_reviewed = countries_reviewed.reset_index()\n",
    "# Then we simply sort these based on the len coloumn \n",
    "countries_reviewed.sort_values(by='len')\n",
    "# By default the sort_values function sorts the data in ascending order \n",
    "\n",
    "# We can sort it in descending order, simply by using the parameter ascending=False \n",
    "countries_reviewed.sort_values(by='len', ascending=False)\n",
    "\n",
    "# If we want to sort the dataframe based on index. then we can use sort_index function \n",
    "countries_reviewed.sort_values(by=['country', 'len'])\n",
    "\n",
    "# Finally, we have an example where we have sorted the dataframe based on more than one coloumn\n",
    "countries_reviewed.sort_values(by=['country', 'len'])\n",
    "# Note here that if you are sorting based on mor than 1 variable, then the 1st variable will be given the \n",
    "# highest priority and the variables occouring later will be given lower priority in sorting"
   ]
  }
 ],
 "metadata": {
  "kernelspec": {
   "display_name": "Python 3",
   "language": "python",
   "name": "python3"
  },
  "language_info": {
   "codemirror_mode": {
    "name": "ipython",
    "version": 3
   },
   "file_extension": ".py",
   "mimetype": "text/x-python",
   "name": "python",
   "nbconvert_exporter": "python",
   "pygments_lexer": "ipython3",
   "version": "3.8.5"
  }
 },
 "nbformat": 4,
 "nbformat_minor": 4
}
