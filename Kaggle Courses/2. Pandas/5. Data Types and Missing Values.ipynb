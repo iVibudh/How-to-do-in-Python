{
 "cells": [
  {
   "cell_type": "code",
   "execution_count": null,
   "metadata": {},
   "outputs": [],
   "source": [
    "# In this section we will learn how to investigate Data types within a Pandas Dataframe or Pandas Series\n",
    "# then we will learn how to deal with Missing Values. \n",
    "\n",
    "#Dtypes\n",
    "# The data type for a column in a DataFrame or a Series is known as the dtype.\n",
    "reviews.price.dtype\n",
    "# So, in this example reviews is the dataframe and price is the coloumn name\n",
    "# and this comand gives the data type for the coloumn\n",
    "\n",
    "# We can also get the data types of all the coloumns in a dataframe \n",
    "# by using the dtypes command - with an \"s\"\n",
    "reviews.dtpyes\n",
    "# this command gives the data types of all the coloumns in the datraframe reviews\n",
    "\n",
    "\n",
    "# So, here in the course it says that data types tell us about how pandas is storing the data internally \n",
    "# float64 means 64-bit floating point number; \n",
    "# int64 means a similarly sized integer \n",
    "# columns consisting entirely of strings do not get their own type; they are instead given the object type.\n",
    "#astype\n",
    "reviews.points.astype('float64')"
   ]
  }
 ],
 "metadata": {
  "kernelspec": {
   "display_name": "Python 3",
   "language": "python",
   "name": "python3"
  },
  "language_info": {
   "codemirror_mode": {
    "name": "ipython",
    "version": 3
   },
   "file_extension": ".py",
   "mimetype": "text/x-python",
   "name": "python",
   "nbconvert_exporter": "python",
   "pygments_lexer": "ipython3",
   "version": "3.8.5"
  }
 },
 "nbformat": 4,
 "nbformat_minor": 4
}
