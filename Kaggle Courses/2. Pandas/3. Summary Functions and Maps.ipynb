{
 "cells": [
  {
   "cell_type": "code",
   "execution_count": null,
   "metadata": {},
   "outputs": [],
   "source": [
    "# In the last section we learnt how to select relevant data out of a Pandas DataFrame or a Series\n",
    "# Now, we are goint to learn the summary functions and Maps "
   ]
  },
  {
   "cell_type": "code",
   "execution_count": null,
   "metadata": {},
   "outputs": [],
   "source": [
    "# Summary Functions \n",
    "\n",
    "# 1. describe\n",
    "# The first fuction is \"describe\" functioin - It generates a high-level summary of the attributes of the given column\n",
    "# For numerical variables - it summarize the central tendency, dispersion and shape of a series, excluding NaN values.\n",
    "reviews.points.describe()\n",
    "\n",
    "# Now if we use the describe function for a series of string, obviously central tendencies and dispersion doesnt make sence \n",
    "# So, we can see here that pandas summarises it in a different way \n",
    "reviews.taster_name.describe()\n",
    "\n",
    "# 2. Mean\n",
    "# the next function is mean - as the name suggests it gives the mean value after excluding the NaNs\n",
    "reviews.points.mean()\n",
    "\n",
    "# 3. unique\n",
    "# the third function is unique - It returns the unique values in order of appearance. Note: This does NOT sort.\n",
    "reviews.taster_name.unique()\n",
    "\n",
    "# 4. vallue_count \n",
    "# The next function is value_count. This function gives the unique vales with their frequencies. \n",
    "reviews.taster_name.value_counts()\n",
    "\n",
    "# So, this concludes some of the important summary functions coveed in the course. \n",
    "# There are a lot of other functions that Pandas support. I hightly that you have a look at some of the other functions \n",
    "# available on Official Pandas documentation. I will attach a link of the website at the bottom of the video. \n",
    "# https://pandas.pydata.org/docs/reference/general_functions.html"
   ]
  },
  {
   "cell_type": "code",
   "execution_count": null,
   "metadata": {},
   "outputs": [],
   "source": [
    "# Maps - map\n",
    "# The next topic is very interesting. In Data Science we often need to new representations of the data \n",
    "# We take the data and then transform this data so that it makes sence for our ML model \n",
    "# maps allows these transfomations very simple. \n",
    "\n",
    "# Lets study the given example\n",
    "# Here we are tring to find the deviations from the mean values. \n",
    "# So, first we calculate the mean value of the series using the mean summarization function we just studied\n",
    "review_points_mean = reviews.points.mean()\n",
    "# Now we need to calculate the differnec of each value in the series from this mean. \n",
    "# So in Map, first we define that the series on which we are going to do the transformation. Here it is review.points\n",
    "# then we begin writing the map function. Inside the function, we need to give a variable name and we do it using lambda\n",
    "# So now the functions knows that the series reviews.points is represented by the variable p\n",
    "# ok. \n",
    "# then we simply define the transformation that we want to do. \n",
    "# Here we have to find the difference from the mean so we simply write p - mean \n",
    "reviews.points.map(lambda p: p - review_points_mean)\n",
    "# So, in summarization map returns a new Series where all the values have been transformed\n",
    "#ok. \n",
    "\n",
    "# A key thing to note here is that this statement returns a series. So, we can assign a new coloumn in the existing \n",
    "# dataframe with these transformed values"
   ]
  },
  {
   "cell_type": "code",
   "execution_count": null,
   "metadata": {},
   "outputs": [],
   "source": [
    "# - apply\n",
    "# Now apply is an equivalent method - if we want to transform a whole DataFrame by calling a custom method on each row.\n",
    "\n",
    "# so first we define the function where we are taking the complete row of a dataframe as an input to the function.\n",
    "# Then we do the transformation that we want to do in the dataframe\n",
    "# then we return the complete row \n",
    "def remean_points(row):\n",
    "    row.points = row.points - review_points_mean\n",
    "    return row\n",
    "\n",
    "# Then we apply this function on the reviews dataframe. Here we use axis='columns' as the parameter as we want to \n",
    "# apply function to each row.\n",
    "# Similarly we could have used axis = ‘index’to apply function to each column.\n",
    "\n",
    "# So, here we can see that apply function returns a dataframe. Whereas the Map function returned a series. \n",
    "reviews.apply(remean_points, axis='columns')"
   ]
  },
  {
   "cell_type": "code",
   "execution_count": null,
   "metadata": {},
   "outputs": [],
   "source": []
  },
  {
   "cell_type": "markdown",
   "metadata": {},
   "source": [
    "### Exercise"
   ]
  },
  {
   "cell_type": "code",
   "execution_count": null,
   "metadata": {},
   "outputs": [],
   "source": [
    "import pandas as pd\n",
    "pd.set_option(\"display.max_rows\", 5)\n",
    "reviews = pd.read_csv(\"../input/wine-reviews/winemag-data-130k-v2.csv\", index_col=0)\n",
    "\n",
    "from learntools.core import binder; binder.bind(globals())\n",
    "from learntools.pandas.summary_functions_and_maps import *\n",
    "print(\"Setup complete.\")\n",
    "\n",
    "reviews.head()"
   ]
  },
  {
   "cell_type": "code",
   "execution_count": null,
   "metadata": {},
   "outputs": [],
   "source": [
    "\n",
    "\n",
    "bargain_idx = (reviews.points / reviews.price).idxmax()\n",
    "bargain_wine = reviews.loc[bargain_idx, 'title']"
   ]
  }
 ],
 "metadata": {
  "kernelspec": {
   "display_name": "Python 3",
   "language": "python",
   "name": "python3"
  },
  "language_info": {
   "codemirror_mode": {
    "name": "ipython",
    "version": 3
   },
   "file_extension": ".py",
   "mimetype": "text/x-python",
   "name": "python",
   "nbconvert_exporter": "python",
   "pygments_lexer": "ipython3",
   "version": "3.8.5"
  }
 },
 "nbformat": 4,
 "nbformat_minor": 4
}
