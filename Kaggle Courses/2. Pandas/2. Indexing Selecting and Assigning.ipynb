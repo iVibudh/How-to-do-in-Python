{
 "cells": [
  {
   "cell_type": "code",
   "execution_count": null,
   "metadata": {},
   "outputs": [],
   "source": [
    "import pandas as pd\n",
    "# reviews = pd.read_csv(\"../input/wine-reviews/winemag-data-130k-v2.csv\", index_col=0)\n",
    "# pd.set_option('max_rows', 5)"
   ]
  },
  {
   "cell_type": "code",
   "execution_count": null,
   "metadata": {},
   "outputs": [],
   "source": [
    "reviews"
   ]
  },
  {
   "cell_type": "code",
   "execution_count": null,
   "metadata": {},
   "outputs": [],
   "source": [
    "reviews.country\n",
    "\n",
    "reviews['country'] ## can handle coloumn names that have spaces"
   ]
  },
  {
   "cell_type": "code",
   "execution_count": null,
   "metadata": {},
   "outputs": [],
   "source": [
    "reviews['country'][0]"
   ]
  },
  {
   "cell_type": "code",
   "execution_count": null,
   "metadata": {},
   "outputs": [],
   "source": [
    "# Pandas indexing works in two different ways. \n",
    "# 1st is index-based selection. operator iloc. Selecting data bsed on its index not the namnes of the coloumn\n",
    "# 2nd is label-based selection. operator loc\n",
    "\n",
    "# Both loc and iloc are row-first, column-second. \n",
    "#This is the opposite of what we do in native Python, which is column-first, row-second.\n",
    "\n",
    "reviews.iloc[0] \n",
    "reviews.iloc[:, 0]\n",
    "reviews.iloc[:3, 0]\n",
    "reviews.iloc[1:3, 0]\n",
    "reviews.iloc[[0, 1, 2], 0]\n",
    "reviews.iloc[-5:]"
   ]
  },
  {
   "cell_type": "code",
   "execution_count": null,
   "metadata": {},
   "outputs": [],
   "source": [
    "# label-based selection\n",
    "reviews.loc[0, 'country']\n",
    "reviews.loc[:, ['taster_name', 'taster_twitter_handle', 'points']]"
   ]
  },
  {
   "cell_type": "code",
   "execution_count": null,
   "metadata": {},
   "outputs": [],
   "source": [
    "# Manipulating the index\n",
    "# Label-based selection (or the loc operator) derives its power from the labels in the index. \n",
    "# index in not immutable - that means we can manipulate the way we want\n",
    "reviews.set_index(\"title\")"
   ]
  },
  {
   "cell_type": "code",
   "execution_count": null,
   "metadata": {},
   "outputs": [],
   "source": [
    "# Conditional selection \n",
    "# In this section we are going to select certain rows of the dataframe, which meet a certain condition \n",
    " \n",
    "\n",
    "# Gives all the rows with True and false values depending whether if it meets the crioterioa or not \n",
    "reviews.country == 'Italy'\n",
    "\n",
    "# Use the condition that we built as a filter for the rows in the dataframe\n",
    "reviews.loc[reviews.country == 'Italy']\n",
    "# Note:Len of original dataframe was around 130k, after filtering the rows has reduced to 20k\n",
    "\n",
    "# how do we use multiple conditions to filter the data \n",
    "# First is ampersand operator which works as AND - So both conditions need to meet\n",
    "reviews.loc[(reviews.country == 'Italy') & (reviews.points >= 90)]\n",
    "\n",
    "# Second is Pipe which works as OR - So either of the two conditions need to meet \n",
    "reviews.loc[(reviews.country == 'Italy') | (reviews.points >= 90)]\n",
    "\n",
    "\n",
    "\n",
    "\n",
    "# Next we are going to learn the Pandas built-in conditional selectors\n",
    "# First we learn about the isin selector\n",
    "reviews.loc[reviews.country.isin(['Italy', 'France'])]\n",
    "reviews.loc[(reviews.country == 'Italy') |  (reviews.country == 'France')]\n",
    "# Alternatively you could have used the & operator to do the same selection. However, \n",
    "# when you have a larger list of items that you need to select, then these operators and be lengthy to use  \n",
    "\n",
    "\n",
    "# Next we learn about the isnull and not null selectors\n",
    "reviews.loc[reviews.price.notnull()]\n",
    "# This gives all the rows in the table which have not null values for price\n",
    "# Similarly, isnull operator will give all the rows which have null values\n",
    "# These two operators are super useful to check the missing values before building a model or visualization"
   ]
  },
  {
   "cell_type": "code",
   "execution_count": null,
   "metadata": {},
   "outputs": [],
   "source": [
    "# Assigning data\n",
    "# Assign a constant value to a coloumn \n",
    "reviews['critic'] = 'everyone'\n",
    "reviews['critic']\n",
    "# Please Note that critic is a new coloumn that is added to the table at the last index\n",
    "# However is the df already has a coloumn named critic, then all the values in the coloumn will \n",
    "# be replaced with that constant \n",
    "\n",
    "# The next is assigning an array to a dataframe\n",
    "reviews['index_backwards'] = range(len(reviews), 0, -1)\n",
    "reviews['index_backwards']"
   ]
  },
  {
   "cell_type": "code",
   "execution_count": null,
   "metadata": {},
   "outputs": [],
   "source": []
  },
  {
   "cell_type": "code",
   "execution_count": null,
   "metadata": {},
   "outputs": [],
   "source": []
  },
  {
   "cell_type": "code",
   "execution_count": null,
   "metadata": {},
   "outputs": [],
   "source": [
    "a = pd.DataFrame({'Bob': ['I liked it.', 'It was awful.'], 'Sue': ['Pretty good.', 'Bland.']})\n",
    "a"
   ]
  },
  {
   "cell_type": "code",
   "execution_count": null,
   "metadata": {},
   "outputs": [],
   "source": [
    "a['critic'] = 'everyone'\n",
    "a"
   ]
  },
  {
   "cell_type": "code",
   "execution_count": null,
   "metadata": {},
   "outputs": [],
   "source": [
    "a['critic'] = 'b'\n",
    "a"
   ]
  },
  {
   "cell_type": "code",
   "execution_count": null,
   "metadata": {},
   "outputs": [],
   "source": [
    "a['index_backwards'] = range(len(a), 0, -1)"
   ]
  }
 ],
 "metadata": {
  "kernelspec": {
   "display_name": "Python 3",
   "language": "python",
   "name": "python3"
  },
  "language_info": {
   "codemirror_mode": {
    "name": "ipython",
    "version": 3
   },
   "file_extension": ".py",
   "mimetype": "text/x-python",
   "name": "python",
   "nbconvert_exporter": "python",
   "pygments_lexer": "ipython3",
   "version": "3.8.5"
  }
 },
 "nbformat": 4,
 "nbformat_minor": 4
}
